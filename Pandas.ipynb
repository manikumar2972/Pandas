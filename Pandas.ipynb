{
 "cells": [
  {
   "cell_type": "markdown",
   "id": "2a2658b5-6a65-45cb-8e86-c9390b32e0b0",
   "metadata": {},
   "source": [
    "## PANDAS PRACTICE"
   ]
  },
  {
   "cell_type": "code",
   "execution_count": 7,
   "id": "649cfd22-1a1c-434f-8fa2-ec001e15c43b",
   "metadata": {},
   "outputs": [
    {
     "data": {
      "text/html": [
       "<div>\n",
       "<style scoped>\n",
       "    .dataframe tbody tr th:only-of-type {\n",
       "        vertical-align: middle;\n",
       "    }\n",
       "\n",
       "    .dataframe tbody tr th {\n",
       "        vertical-align: top;\n",
       "    }\n",
       "\n",
       "    .dataframe thead th {\n",
       "        text-align: right;\n",
       "    }\n",
       "</style>\n",
       "<table border=\"1\" class=\"dataframe\">\n",
       "  <thead>\n",
       "    <tr style=\"text-align: right;\">\n",
       "      <th></th>\n",
       "      <th>Make</th>\n",
       "      <th>Model</th>\n",
       "      <th>Vehicle Class</th>\n",
       "      <th>Engine Size(L)</th>\n",
       "      <th>Cylinders</th>\n",
       "      <th>Transmission</th>\n",
       "      <th>Fuel Type</th>\n",
       "      <th>Fuel Consumption City (L/100 km)</th>\n",
       "      <th>Fuel Consumption Hwy (L/100 km)</th>\n",
       "      <th>Fuel Consumption Comb (L/100 km)</th>\n",
       "      <th>Fuel Consumption Comb (mpg)</th>\n",
       "      <th>CO2 Emissions(g/km)</th>\n",
       "    </tr>\n",
       "  </thead>\n",
       "  <tbody>\n",
       "    <tr>\n",
       "      <th>0</th>\n",
       "      <td>ACURA</td>\n",
       "      <td>ILX</td>\n",
       "      <td>COMPACT</td>\n",
       "      <td>2.0</td>\n",
       "      <td>4</td>\n",
       "      <td>AS5</td>\n",
       "      <td>Z</td>\n",
       "      <td>9.9</td>\n",
       "      <td>6.7</td>\n",
       "      <td>8.5</td>\n",
       "      <td>33</td>\n",
       "      <td>196.0</td>\n",
       "    </tr>\n",
       "    <tr>\n",
       "      <th>1</th>\n",
       "      <td>ACURA</td>\n",
       "      <td>ILX</td>\n",
       "      <td>COMPACT</td>\n",
       "      <td>2.4</td>\n",
       "      <td>4</td>\n",
       "      <td>M6</td>\n",
       "      <td>Z</td>\n",
       "      <td>11.2</td>\n",
       "      <td>7.7</td>\n",
       "      <td>9.6</td>\n",
       "      <td>29</td>\n",
       "      <td>221.0</td>\n",
       "    </tr>\n",
       "    <tr>\n",
       "      <th>2</th>\n",
       "      <td>ACURA</td>\n",
       "      <td>ILX HYBRID</td>\n",
       "      <td>COMPACT</td>\n",
       "      <td>1.5</td>\n",
       "      <td>4</td>\n",
       "      <td>AV7</td>\n",
       "      <td>Z</td>\n",
       "      <td>6.0</td>\n",
       "      <td>5.8</td>\n",
       "      <td>5.9</td>\n",
       "      <td>48</td>\n",
       "      <td>136.0</td>\n",
       "    </tr>\n",
       "    <tr>\n",
       "      <th>3</th>\n",
       "      <td>ACURA</td>\n",
       "      <td>MDX 4WD</td>\n",
       "      <td>SUV - SMALL</td>\n",
       "      <td>3.5</td>\n",
       "      <td>6</td>\n",
       "      <td>AS6</td>\n",
       "      <td>Z</td>\n",
       "      <td>12.7</td>\n",
       "      <td>9.1</td>\n",
       "      <td>11.1</td>\n",
       "      <td>25</td>\n",
       "      <td>255.0</td>\n",
       "    </tr>\n",
       "    <tr>\n",
       "      <th>4</th>\n",
       "      <td>ACURA</td>\n",
       "      <td>RDX AWD</td>\n",
       "      <td>SUV - SMALL</td>\n",
       "      <td>3.5</td>\n",
       "      <td>6</td>\n",
       "      <td>AS6</td>\n",
       "      <td>Z</td>\n",
       "      <td>12.1</td>\n",
       "      <td>8.7</td>\n",
       "      <td>10.6</td>\n",
       "      <td>27</td>\n",
       "      <td>244.0</td>\n",
       "    </tr>\n",
       "  </tbody>\n",
       "</table>\n",
       "</div>"
      ],
      "text/plain": [
       "    Make       Model Vehicle Class  Engine Size(L)  Cylinders Transmission  \\\n",
       "0  ACURA         ILX       COMPACT             2.0          4          AS5   \n",
       "1  ACURA         ILX       COMPACT             2.4          4           M6   \n",
       "2  ACURA  ILX HYBRID       COMPACT             1.5          4          AV7   \n",
       "3  ACURA     MDX 4WD   SUV - SMALL             3.5          6          AS6   \n",
       "4  ACURA     RDX AWD   SUV - SMALL             3.5          6          AS6   \n",
       "\n",
       "  Fuel Type  Fuel Consumption City (L/100 km)  \\\n",
       "0         Z                               9.9   \n",
       "1         Z                              11.2   \n",
       "2         Z                               6.0   \n",
       "3         Z                              12.7   \n",
       "4         Z                              12.1   \n",
       "\n",
       "   Fuel Consumption Hwy (L/100 km)  Fuel Consumption Comb (L/100 km)  \\\n",
       "0                              6.7                               8.5   \n",
       "1                              7.7                               9.6   \n",
       "2                              5.8                               5.9   \n",
       "3                              9.1                              11.1   \n",
       "4                              8.7                              10.6   \n",
       "\n",
       "   Fuel Consumption Comb (mpg)  CO2 Emissions(g/km)  \n",
       "0                           33                196.0  \n",
       "1                           29                221.0  \n",
       "2                           48                136.0  \n",
       "3                           25                255.0  \n",
       "4                           27                244.0  "
      ]
     },
     "execution_count": 7,
     "metadata": {},
     "output_type": "execute_result"
    }
   ],
   "source": [
    "import numpy as np\n",
    "import pandas as pd\n",
    "\n",
    "co2_emission = \"https://s3.ap-south-1.amazonaws.com/new-assets.ccbp.in/frontend/content/aiml/classical-ml/CO2_Emissions_Canada2.csv\"\n",
    "\n",
    "data = pd.read_csv(co2_emission)\n",
    "data.head()"
   ]
  },
  {
   "cell_type": "markdown",
   "id": "b2c0e36a-0666-4130-a84e-efab2a307ed5",
   "metadata": {},
   "source": [
    "#### 1. What is the median engine size for each type of transmission?"
   ]
  },
  {
   "cell_type": "code",
   "execution_count": 8,
   "id": "d4a83e7c-dcd7-4925-b38e-febe51b4549d",
   "metadata": {},
   "outputs": [
    {
     "name": "stdout",
     "output_type": "stream",
     "text": [
      "Transmission\n",
      "A10     6.2\n",
      "A4      4.3\n",
      "A5      3.8\n",
      "A6      3.6\n",
      "A7      4.0\n",
      "A8      3.6\n",
      "A9      3.0\n",
      "AM5     1.0\n",
      "AM6     2.0\n",
      "AM7     3.0\n",
      "AM8     3.0\n",
      "AM9     3.5\n",
      "AS10    3.5\n",
      "AS4     2.4\n",
      "AS5     4.0\n",
      "AS6     2.5\n",
      "AS7     3.7\n",
      "AS8     3.0\n",
      "AS9     3.5\n",
      "AV      2.0\n",
      "AV10    3.5\n",
      "AV6     2.5\n",
      "AV7     2.0\n",
      "AV8     2.0\n",
      "M5      1.8\n",
      "M6      2.0\n",
      "M7      3.4\n",
      "Name: Engine Size(L), dtype: float64\n"
     ]
    }
   ],
   "source": [
    "median_engine_size = data.groupby('Transmission')['Engine Size(L)'].median()\n",
    "print(median_engine_size)"
   ]
  },
  {
   "cell_type": "markdown",
   "id": "31370c8a-d315-4b26-8f25-5262a6556bd5",
   "metadata": {},
   "source": [
    "#### 2. What is the correlation between CO2 emissions (g/km) and fuel consumption in the city (L/100 km)?"
   ]
  },
  {
   "cell_type": "code",
   "execution_count": 9,
   "id": "897090d9-697e-4c50-b5eb-5a2357bc9ead",
   "metadata": {},
   "outputs": [
    {
     "name": "stdout",
     "output_type": "stream",
     "text": [
      "0.9195626820357143\n"
     ]
    }
   ],
   "source": [
    "co2_correlation = data['CO2 Emissions(g/km)'].corr(data['Fuel Consumption City (L/100 km)'])\n",
    "print(co2_correlation)"
   ]
  },
  {
   "cell_type": "markdown",
   "id": "f020ff5f-4337-4e86-9339-2c4a1d1927e6",
   "metadata": {},
   "source": [
    "#### 3. What is the average CO2 emissions (in g/km) for vehicles in the \"TWO-SEATER\" class?"
   ]
  },
  {
   "cell_type": "code",
   "execution_count": 10,
   "id": "f3069741-c0ae-4700-8faf-d37abf957ef0",
   "metadata": {},
   "outputs": [
    {
     "name": "stdout",
     "output_type": "stream",
     "text": [
      "277.454347826087\n"
     ]
    }
   ],
   "source": [
    "two_seater_mean =  data[data['Vehicle Class'] == 'TWO-SEATER']['CO2 Emissions(g/km)'].mean()\n",
    "print(two_seater_mean)"
   ]
  },
  {
   "cell_type": "markdown",
   "id": "ceb57d9d-6160-4e54-863f-eb3f04ee81d1",
   "metadata": {},
   "source": [
    "#### 4.What is the average fuel consumption (in L/100 km) for vehicles of the make \"DODGE\" in the dataset?"
   ]
  },
  {
   "cell_type": "code",
   "execution_count": 11,
   "id": "aba4f222-3e78-493b-bd19-9a56c3d2fc38",
   "metadata": {},
   "outputs": [
    {
     "name": "stdout",
     "output_type": "stream",
     "text": [
      "12.510162601626014\n"
     ]
    }
   ],
   "source": [
    "avg_fuel_by_class =  data[data['Make'] == 'DODGE']['Fuel Consumption Comb (L/100 km)'].mean()\n",
    "print(avg_fuel_by_class)"
   ]
  },
  {
   "cell_type": "markdown",
   "id": "24b9072f-c94d-4264-9afa-64d11e357402",
   "metadata": {},
   "source": [
    "#### 5.What is the overall average CO2 emissions (in g/km) for vehicles of the make \"DODGE\" in the dataset?"
   ]
  },
  {
   "cell_type": "code",
   "execution_count": 6,
   "id": "b3a2964e-3a10-4a97-b5b9-ecf96249a6fd",
   "metadata": {},
   "outputs": [
    {
     "name": "stdout",
     "output_type": "stream",
     "text": [
      "276.3617886178862\n"
     ]
    }
   ],
   "source": [
    "overall_avg_co2 = data[data['Make'] == 'DODGE']['CO2 Emissions(g/km)'].mean()\n",
    "print(overall_avg_co2)"
   ]
  },
  {
   "cell_type": "markdown",
   "id": "1bda1959-2160-4aec-be3f-86506ed74dca",
   "metadata": {},
   "source": [
    "#### 6.Find out which combination of vehicle class and fuel type offers best fuel efficiency."
   ]
  },
  {
   "cell_type": "code",
   "execution_count": 12,
   "id": "4db1ea06-c0e0-4f89-b68d-dc41deebafa0",
   "metadata": {},
   "outputs": [
    {
     "name": "stdout",
     "output_type": "stream",
     "text": [
      "   Vehicle Class Fuel Type  Fuel Consumption Comb (L/100 km)\n",
      "31    SUBCOMPACT         D                               6.5\n"
     ]
    }
   ],
   "source": [
    "avg_fuel_combo = data.groupby(['Vehicle Class', 'Fuel Type'])['Fuel Consumption Comb (L/100 km)'].mean().reset_index()\n",
    "\n",
    "best_efficiency = avg_fuel_combo.sort_values(by='Fuel Consumption Comb (L/100 km)', ascending=True).head(1)\n",
    "print(best_efficiency)"
   ]
  },
  {
   "cell_type": "markdown",
   "id": "39703740-2b35-44ff-8bb9-6e6f4a607244",
   "metadata": {},
   "source": [
    "#### 7.Find out which combination of number of cylinders and fuel type has highest carbon emissions."
   ]
  },
  {
   "cell_type": "code",
   "execution_count": 13,
   "id": "dc196a3f-642d-4bb4-80e0-159cfa2429fb",
   "metadata": {},
   "outputs": [
    {
     "name": "stdout",
     "output_type": "stream",
     "text": [
      "    Cylinders Fuel Type  CO2 Emissions(g/km)\n",
      "19         16         Z                522.0\n"
     ]
    }
   ],
   "source": [
    "avg_co2_by_cyl_fuel = data.groupby(['Cylinders', 'Fuel Type'])['CO2 Emissions(g/km)'].mean().reset_index()\n",
    "\n",
    "highest_co2_combo = avg_co2_by_cyl_fuel.sort_values(by='CO2 Emissions(g/km)', ascending=False).head(1)\n",
    "print(highest_co2_combo)"
   ]
  },
  {
   "cell_type": "markdown",
   "id": "a4442384-876d-40e0-92bc-ca7c071db83a",
   "metadata": {},
   "source": [
    "#### 8.How can you filter the dataset to find model with given details where SUV vehicles of the make \"DODGE,\" and CO2 emissions of 255.0 g/km?"
   ]
  },
  {
   "cell_type": "code",
   "execution_count": 14,
   "id": "33427c29-9d4b-4d76-9223-473364171140",
   "metadata": {},
   "outputs": [
    {
     "name": "stdout",
     "output_type": "stream",
     "text": [
      "328     JOURNEY\n",
      "1427    JOURNEY\n",
      "Name: Model, dtype: object\n"
     ]
    }
   ],
   "source": [
    "small_suv_high = data[(data['Vehicle Class'] == 'SUV - SMALL') &\n",
    "                      (data['Make'] == 'DODGE') &\n",
    "                      (data['CO2 Emissions(g/km)'] == 255.0) ]\n",
    "print(small_suv_high['Model'])"
   ]
  },
  {
   "cell_type": "markdown",
   "id": "fdb494a6-398c-4cf3-a6ec-144714d25851",
   "metadata": {},
   "source": [
    "#### 9.Calculate the interquartile range for co2 emissions by small suvs.\n",
    "\n",
    "    1. Step 1 : Filter the data for vehicle class small suv\n",
    "    2. step 2 : Calculate quantile 1 for co2 emission\n",
    "    3. step 3 : Calculate quantile 3 for co2 emmision\n",
    "    4. step 4 : calculate the IQR using step 2 and step 4."
   ]
  },
  {
   "cell_type": "code",
   "execution_count": 15,
   "id": "71b1d4a1-f484-4314-b834-94c40e582882",
   "metadata": {},
   "outputs": [
    {
     "name": "stdout",
     "output_type": "stream",
     "text": [
      "43.0\n"
     ]
    }
   ],
   "source": [
    "small_suv = data[data['Vehicle Class'] == 'SUV - SMALL']\n",
    "Q1 = small_suv['CO2 Emissions(g/km)'].quantile(0.25)\n",
    "Q3 = small_suv['CO2 Emissions(g/km)'].quantile(0.75)\n",
    "IQR = Q3 - Q1\n",
    "print(IQR)"
   ]
  },
  {
   "cell_type": "markdown",
   "id": "bc5958c7-a8c0-40cb-bb55-8b980e8459a5",
   "metadata": {},
   "source": [
    "#### 9.Calculate the interquartile range for co2 emissions by small suvs.\n",
    "\n",
    "    1. Step 1 : Filter the data for vehicle class small suv\n",
    "    2. step 2 : Calculate quantile 1 for co2 emission\n",
    "    3. step 3 : Calculate quantile 3 for co2 emmision\n",
    "    4. step 4 : calculate the IQR using step 2 and step 4."
   ]
  },
  {
   "cell_type": "code",
   "execution_count": null,
   "id": "1ee2c41d-9126-4ce8-9ddb-bc5ac88b6a07",
   "metadata": {},
   "outputs": [],
   "source": []
  }
 ],
 "metadata": {
  "kernelspec": {
   "display_name": "Python 3 (ipykernel)",
   "language": "python",
   "name": "python3"
  },
  "language_info": {
   "codemirror_mode": {
    "name": "ipython",
    "version": 3
   },
   "file_extension": ".py",
   "mimetype": "text/x-python",
   "name": "python",
   "nbconvert_exporter": "python",
   "pygments_lexer": "ipython3",
   "version": "3.13.5"
  }
 },
 "nbformat": 4,
 "nbformat_minor": 5
}
